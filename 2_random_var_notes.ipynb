{
 "cells": [
  {
   "cell_type": "code",
   "execution_count": 88,
   "metadata": {},
   "outputs": [
    {
     "name": "stdout",
     "output_type": "stream",
     "text": [
      "потрачено 10000000 руб, выйгрыш составил 7004941 рублей. Средний выйгрыш 0.7004941 руб\n"
     ]
    }
   ],
   "source": [
    "# Решение, если делать число случайным от 0 до 999 без учета количества знаков\n",
    "\n",
    "import numpy as np\n",
    "import re\n",
    "\n",
    "trials = 10000000   # Количество попыток\n",
    "win = 0 #заработанная сумма\n",
    "\n",
    "\n",
    "for i in range(trials):\n",
    "    random_score = np.random.randint(0, 1000)    # Случайное количество очков от 0 до 999\n",
    "    if random_score == 777:\n",
    "        win += 200\n",
    "    elif random_score == 999:\n",
    "        win += 100\n",
    "    elif random_score == 555:\n",
    "        win += 50\n",
    "    elif random_score == 333:\n",
    "        win += 15\n",
    "    elif random_score == 111:\n",
    "        win += 10\n",
    "    elif re.search(r\"\\d77\",str(random_score)) or random_score == 77:\n",
    "        win += 5\n",
    "    elif re.search(r\"\\d\\d7\",str(random_score)) or re.search(r\"\\d7\\b\",str(random_score)) or random_score == 7:\n",
    "        win += 2\n",
    "    elif re.search(r\"\\d\\d0\",str(random_score)) or re.search(r\"\\d0\\b\",str(random_score)) or random_score == 0:\n",
    "        win += 1\n",
    "\n",
    "\n",
    "win_av = win/trials\n",
    "\n",
    "print(f'потрачено {trials} руб, выйгрыш составил {win} рублей. Средний выйгрыш {win_av} руб')"
   ]
  },
  {
   "cell_type": "code",
   "execution_count": 13,
   "metadata": {},
   "outputs": [
    {
     "name": "stdout",
     "output_type": "stream",
     "text": [
      "0.8410000000000001\n"
     ]
    }
   ],
   "source": [
    "# Расчет через среднее\n",
    "win_av=(0.001*200+0.001*100+0.001*50+0.001*15+0.001*10+0.01*5+(99/1000)*3+0.01*2+(99/1000)*1+777*0)\n",
    "\n",
    "print(win_av)\n"
   ]
  },
  {
   "cell_type": "code",
   "execution_count": 89,
   "metadata": {},
   "outputs": [
    {
     "name": "stdout",
     "output_type": "stream",
     "text": [
      "потрачено 10000000 руб, выйгрыш составил 6694134 рублей. Средний выйгрыш 0.6694134 руб\n"
     ]
    }
   ],
   "source": [
    "# Решение, если делать число всегда трехзначным (уменьшает условия в коде)\n",
    "\n",
    "import numpy as np\n",
    "import re\n",
    "\n",
    "trials = 10000000   # Количество попыток\n",
    "win = 0 #заработанная сумма\n",
    "\n",
    "\n",
    "for i in range(trials):\n",
    "    hundreds = np.random.randint(0,10) \n",
    "    tens = np.random.randint(0,10) \n",
    "    ones = np.random.randint(0,10) \n",
    "    random_score = int(str(hundreds) + str(tens) + str(ones))  # Случайное количество очков от 0 до 999\n",
    "    if random_score == 777:\n",
    "        win += 200\n",
    "    elif random_score == 999:\n",
    "        win += 100\n",
    "    elif random_score == 555:\n",
    "        win += 50\n",
    "    elif random_score == 333:\n",
    "        win += 15\n",
    "    elif random_score == 111:\n",
    "        win += 10\n",
    "    elif re.search(r\"\\d77\",str(random_score)):\n",
    "        win += 5\n",
    "    elif re.search(r\"\\d\\d7\",str(random_score)):\n",
    "        win += 2\n",
    "    elif re.search(r\"\\d\\d0\",str(random_score)):\n",
    "        win += 1\n",
    "\n",
    "\n",
    "win_av = win/trials\n",
    "\n",
    "print(f'потрачено {trials} руб, выйгрыш составил {win} рублей. Средний выйгрыш {win_av} руб')\n"
   ]
  },
  {
   "cell_type": "code",
   "execution_count": null,
   "metadata": {},
   "outputs": [],
   "source": []
  }
 ],
 "metadata": {
  "kernelspec": {
   "display_name": "Python 3",
   "language": "python",
   "name": "python3"
  },
  "language_info": {
   "codemirror_mode": {
    "name": "ipython",
    "version": 3
   },
   "file_extension": ".py",
   "mimetype": "text/x-python",
   "name": "python",
   "nbconvert_exporter": "python",
   "pygments_lexer": "ipython3",
   "version": "3.8.3"
  }
 },
 "nbformat": 4,
 "nbformat_minor": 4
}
